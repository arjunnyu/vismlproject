{
 "cells": [
  {
   "cell_type": "code",
   "execution_count": 1,
   "id": "466948e5",
   "metadata": {},
   "outputs": [],
   "source": [
    "#we will be testing the following:\n",
    "#Classification:\n",
    "#-logistic regression\n",
    "#-random forest\n",
    "#-dense Neural Network\n",
    "\n",
    "#Regression:\n",
    "#-linear regression\n",
    "#-random forest\n",
    "#-dense Neural Network\n",
    "\n",
    "#dependencies\n",
    "import pandas as pd\n",
    "import shap\n",
    "import matplotlib.pyplot as plt\n",
    "from sklearn.model_selection import train_test_split\n",
    "from sklearn.linear_model import LinearRegression, LogisticRegression\n",
    "from sklearn.ensemble import RandomForestRegressor, RandomForestClassifier\n",
    "#import dependencies for neural network regressor and classifier\n"
   ]
  },
  {
   "cell_type": "code",
   "execution_count": 10,
   "id": "9d508e34",
   "metadata": {},
   "outputs": [],
   "source": [
    "#load data, split into training and testing\n",
    "classification_set = pd.read_csv(\"./classification_set.csv\",index_col=0)\n",
    "regression_set = pd.read_csv(\"./regression_set.csv\",index_col=0)\n",
    "\n",
    "classification_set.head()\n",
    "regression_set.head()\n",
    "\n",
    "X_c = classification_set[classification_set.columns[:-1]]\n",
    "y_c = classification_set[classification_set.columns[-1]]\n",
    "\n",
    "X_r = regression_set[regression_set.columns[:-1]]\n",
    "y_r = regression_set[regression_set.columns[-1]]\n",
    "\n",
    "X_train_c, X_test_c, y_train_c, y_test_c = train_test_split(X_c, y_c, test_size=.2)\n",
    "X_train_r, X_test_r, y_train_r, y_test_r = train_test_split(X_r, y_r, test_size=.2)"
   ]
  },
  {
   "cell_type": "code",
   "execution_count": null,
   "id": "a12291e1",
   "metadata": {},
   "outputs": [],
   "source": []
  }
 ],
 "metadata": {
  "kernelspec": {
   "display_name": "introds",
   "language": "python",
   "name": "introds"
  },
  "language_info": {
   "codemirror_mode": {
    "name": "ipython",
    "version": 3
   },
   "file_extension": ".py",
   "mimetype": "text/x-python",
   "name": "python",
   "nbconvert_exporter": "python",
   "pygments_lexer": "ipython3",
   "version": "3.9.12"
  }
 },
 "nbformat": 4,
 "nbformat_minor": 5
}
