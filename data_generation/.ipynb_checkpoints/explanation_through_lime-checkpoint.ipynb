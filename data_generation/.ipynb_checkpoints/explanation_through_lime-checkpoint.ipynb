{
 "cells": [
  {
   "cell_type": "code",
   "execution_count": 11,
   "id": "d1a50e73",
   "metadata": {},
   "outputs": [],
   "source": [
    "#we will be testing the following:\n",
    "#Classification:\n",
    "#-logistic regression\n",
    "#-random forest\n",
    "#-dense Neural Network\n",
    "\n",
    "#Regression:\n",
    "#-linear regression\n",
    "#-random forest\n",
    "#-dense Neural Network\n",
    "\n",
    "#dependencies\n",
    "import pandas as pd\n",
    "import lime\n",
    "import lime.lime_tabular\n",
    "import matplotlib.pyplot as plt\n",
    "from sklearn.model_selection import train_test_split\n",
    "from sklearn.linear_model import LinearRegression, LogisticRegression\n",
    "from sklearn.ensemble import RandomForestRegressor, RandomForestClassifier\n",
    "#import dependencies for neural network regressor and classifier\n"
   ]
  },
  {
   "cell_type": "code",
   "execution_count": 10,
   "id": "29c24d3e",
   "metadata": {},
   "outputs": [],
   "source": [
    "#load data, split into training and testing\n",
    "classification_set = pd.read_csv(\"./classification_set.csv\",index_col=0)\n",
    "regression_set = pd.read_csv(\"./regression_set.csv\",index_col=0)\n",
    "\n",
    "classification_set.head()\n",
    "regression_set.head()\n",
    "\n",
    "X_c = classification_set[classification_set.columns[:-1]]\n",
    "y_c = classification_set[classification_set.columns[-1]]\n",
    "\n",
    "X_r = regression_set[regression_set.columns[:-1]]\n",
    "y_r = regression_set[regression_set.columns[-1]]\n",
    "\n",
    "X_train_c, X_test_c, y_train_c, y_test_c = train_test_split(X_c, y_c, test_size=.2, random_state=42)\n",
    "X_train_r, X_test_r, y_train_r, y_test_r = train_test_split(X_r, y_r, test_size=.2, random_state=42)"
   ]
  },
  {
   "cell_type": "code",
   "execution_count": 12,
   "id": "4f412c57",
   "metadata": {},
   "outputs": [],
   "source": [
    "#define parameters, constants\n",
    "#i, the ith feature to explain\n",
    "i = 30"
   ]
  },
  {
   "cell_type": "markdown",
   "id": "9ae8aa57",
   "metadata": {},
   "source": [
    "# Classification comparisons\n",
    "* Logistic Regression\n",
    "* RandomForestClassifier\n",
    "* Neural Network Classification"
   ]
  },
  {
   "cell_type": "code",
   "execution_count": 4,
   "id": "88c0e575",
   "metadata": {},
   "outputs": [],
   "source": [
    "#logistic regression\n"
   ]
  },
  {
   "cell_type": "code",
   "execution_count": 5,
   "id": "50e9e774",
   "metadata": {},
   "outputs": [],
   "source": [
    "#random forest\n"
   ]
  },
  {
   "cell_type": "code",
   "execution_count": 6,
   "id": "e05756e7",
   "metadata": {},
   "outputs": [],
   "source": [
    "#Neural Network Classifier\n"
   ]
  },
  {
   "cell_type": "markdown",
   "id": "78fa8204",
   "metadata": {},
   "source": [
    "# Regression comparisons\n",
    "* Linear Regression\n",
    "* RandomForestRegressor\n",
    "* Neural Network Regressor"
   ]
  },
  {
   "cell_type": "code",
   "execution_count": 7,
   "id": "0fca9481",
   "metadata": {},
   "outputs": [],
   "source": [
    "#linear regression\n"
   ]
  },
  {
   "cell_type": "code",
   "execution_count": 8,
   "id": "92635a73",
   "metadata": {},
   "outputs": [],
   "source": [
    "#random forest\n"
   ]
  },
  {
   "cell_type": "code",
   "execution_count": 9,
   "id": "fb957d22",
   "metadata": {},
   "outputs": [],
   "source": [
    "#neural network regressor\n"
   ]
  },
  {
   "cell_type": "code",
   "execution_count": null,
   "id": "95b8ae93",
   "metadata": {},
   "outputs": [],
   "source": []
  }
 ],
 "metadata": {
  "kernelspec": {
   "display_name": "introds",
   "language": "python",
   "name": "introds"
  },
  "language_info": {
   "codemirror_mode": {
    "name": "ipython",
    "version": 3
   },
   "file_extension": ".py",
   "mimetype": "text/x-python",
   "name": "python",
   "nbconvert_exporter": "python",
   "pygments_lexer": "ipython3",
   "version": "3.9.12"
  }
 },
 "nbformat": 4,
 "nbformat_minor": 5
}
